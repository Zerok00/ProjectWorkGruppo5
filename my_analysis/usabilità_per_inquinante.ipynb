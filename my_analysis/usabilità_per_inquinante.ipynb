{
 "cells": [
  {
   "cell_type": "code",
   "execution_count": 2,
   "metadata": {},
   "outputs": [
    {
     "name": "stderr",
     "output_type": "stream",
     "text": [
      "C:\\Users\\aleco\\AppData\\Local\\Temp\\ipykernel_27280\\2151744951.py:1: DeprecationWarning: \n",
      "Pyarrow will become a required dependency of pandas in the next major release of pandas (pandas 3.0),\n",
      "(to allow more performant data types, such as the Arrow string type, and better interoperability with other libraries)\n",
      "but was not found to be installed on your system.\n",
      "If this would cause problems for you,\n",
      "please provide us feedback at https://github.com/pandas-dev/pandas/issues/54466\n",
      "        \n",
      "  import pandas as pd\n"
     ]
    }
   ],
   "source": [
    "import pandas as pd\n",
    "import numpy as np\n",
    "import matplotlib.pyplot as plt"
   ]
  },
  {
   "cell_type": "code",
   "execution_count": 18,
   "metadata": {},
   "outputs": [
    {
     "name": "stderr",
     "output_type": "stream",
     "text": [
      "C:\\Users\\aleco\\AppData\\Local\\Temp\\ipykernel_27280\\1934521147.py:3: UserWarning: Boolean Series key will be reindexed to match DataFrame index.\n",
      "  intervallo_df = df.loc[7*24 : 2*7*24][df['IdSensore'] == 5504]\n"
     ]
    }
   ],
   "source": [
    "df = pd.read_csv(r\"C:\\Users\\aleco\\_DAITA12\\Dati Project Work\\Qualita_aria\\Dati_sensori_aria_20240219.csv\")\n",
    "\n",
    "intervallo_df = df.loc[7*24 : 2*7*24][df['IdSensore'] == 5504]\n",
    "\n"
   ]
  },
  {
   "cell_type": "code",
   "execution_count": 15,
   "metadata": {},
   "outputs": [
    {
     "data": {
      "text/html": [
       "<div>\n",
       "<style scoped>\n",
       "    .dataframe tbody tr th:only-of-type {\n",
       "        vertical-align: middle;\n",
       "    }\n",
       "\n",
       "    .dataframe tbody tr th {\n",
       "        vertical-align: top;\n",
       "    }\n",
       "\n",
       "    .dataframe thead th {\n",
       "        text-align: right;\n",
       "    }\n",
       "</style>\n",
       "<table border=\"1\" class=\"dataframe\">\n",
       "  <thead>\n",
       "    <tr style=\"text-align: right;\">\n",
       "      <th></th>\n",
       "      <th>IdSensore</th>\n",
       "      <th>Data</th>\n",
       "      <th>Valore</th>\n",
       "      <th>Stato</th>\n",
       "      <th>idOperatore</th>\n",
       "    </tr>\n",
       "  </thead>\n",
       "  <tbody>\n",
       "    <tr>\n",
       "      <th>0</th>\n",
       "      <td>5504</td>\n",
       "      <td>01/01/2023 12:00:00 AM</td>\n",
       "      <td>42.1</td>\n",
       "      <td>VA</td>\n",
       "      <td>1</td>\n",
       "    </tr>\n",
       "    <tr>\n",
       "      <th>1</th>\n",
       "      <td>5504</td>\n",
       "      <td>01/01/2023 01:00:00 AM</td>\n",
       "      <td>41.1</td>\n",
       "      <td>VA</td>\n",
       "      <td>1</td>\n",
       "    </tr>\n",
       "    <tr>\n",
       "      <th>2</th>\n",
       "      <td>5504</td>\n",
       "      <td>01/01/2023 02:00:00 AM</td>\n",
       "      <td>39.7</td>\n",
       "      <td>VA</td>\n",
       "      <td>1</td>\n",
       "    </tr>\n",
       "    <tr>\n",
       "      <th>3</th>\n",
       "      <td>5504</td>\n",
       "      <td>01/01/2023 03:00:00 AM</td>\n",
       "      <td>38.6</td>\n",
       "      <td>VA</td>\n",
       "      <td>1</td>\n",
       "    </tr>\n",
       "    <tr>\n",
       "      <th>4</th>\n",
       "      <td>5504</td>\n",
       "      <td>01/01/2023 04:00:00 AM</td>\n",
       "      <td>36.9</td>\n",
       "      <td>VA</td>\n",
       "      <td>1</td>\n",
       "    </tr>\n",
       "    <tr>\n",
       "      <th>...</th>\n",
       "      <td>...</td>\n",
       "      <td>...</td>\n",
       "      <td>...</td>\n",
       "      <td>...</td>\n",
       "      <td>...</td>\n",
       "    </tr>\n",
       "    <tr>\n",
       "      <th>2976087</th>\n",
       "      <td>20443</td>\n",
       "      <td>15/02/2024 08:00:00 PM</td>\n",
       "      <td>9.5</td>\n",
       "      <td>VA</td>\n",
       "      <td>1</td>\n",
       "    </tr>\n",
       "    <tr>\n",
       "      <th>2976088</th>\n",
       "      <td>20443</td>\n",
       "      <td>15/02/2024 09:00:00 PM</td>\n",
       "      <td>8.4</td>\n",
       "      <td>VA</td>\n",
       "      <td>1</td>\n",
       "    </tr>\n",
       "    <tr>\n",
       "      <th>2976089</th>\n",
       "      <td>20443</td>\n",
       "      <td>15/02/2024 10:00:00 PM</td>\n",
       "      <td>5.0</td>\n",
       "      <td>VA</td>\n",
       "      <td>1</td>\n",
       "    </tr>\n",
       "    <tr>\n",
       "      <th>2976090</th>\n",
       "      <td>20443</td>\n",
       "      <td>15/02/2024 11:00:00 PM</td>\n",
       "      <td>6.7</td>\n",
       "      <td>VA</td>\n",
       "      <td>1</td>\n",
       "    </tr>\n",
       "    <tr>\n",
       "      <th>2976091</th>\n",
       "      <td>20443</td>\n",
       "      <td>16/02/2024 12:00:00 AM</td>\n",
       "      <td>6.3</td>\n",
       "      <td>VA</td>\n",
       "      <td>1</td>\n",
       "    </tr>\n",
       "  </tbody>\n",
       "</table>\n",
       "<p>2976092 rows × 5 columns</p>\n",
       "</div>"
      ],
      "text/plain": [
       "         IdSensore                    Data  Valore Stato  idOperatore\n",
       "0             5504  01/01/2023 12:00:00 AM    42.1    VA            1\n",
       "1             5504  01/01/2023 01:00:00 AM    41.1    VA            1\n",
       "2             5504  01/01/2023 02:00:00 AM    39.7    VA            1\n",
       "3             5504  01/01/2023 03:00:00 AM    38.6    VA            1\n",
       "4             5504  01/01/2023 04:00:00 AM    36.9    VA            1\n",
       "...            ...                     ...     ...   ...          ...\n",
       "2976087      20443  15/02/2024 08:00:00 PM     9.5    VA            1\n",
       "2976088      20443  15/02/2024 09:00:00 PM     8.4    VA            1\n",
       "2976089      20443  15/02/2024 10:00:00 PM     5.0    VA            1\n",
       "2976090      20443  15/02/2024 11:00:00 PM     6.7    VA            1\n",
       "2976091      20443  16/02/2024 12:00:00 AM     6.3    VA            1\n",
       "\n",
       "[2976092 rows x 5 columns]"
      ]
     },
     "execution_count": 15,
     "metadata": {},
     "output_type": "execute_result"
    }
   ],
   "source": [
    "df"
   ]
  },
  {
   "cell_type": "code",
   "execution_count": 19,
   "metadata": {},
   "outputs": [
    {
     "data": {
      "text/html": [
       "<div>\n",
       "<style scoped>\n",
       "    .dataframe tbody tr th:only-of-type {\n",
       "        vertical-align: middle;\n",
       "    }\n",
       "\n",
       "    .dataframe tbody tr th {\n",
       "        vertical-align: top;\n",
       "    }\n",
       "\n",
       "    .dataframe thead th {\n",
       "        text-align: right;\n",
       "    }\n",
       "</style>\n",
       "<table border=\"1\" class=\"dataframe\">\n",
       "  <thead>\n",
       "    <tr style=\"text-align: right;\">\n",
       "      <th></th>\n",
       "      <th>IdSensore</th>\n",
       "      <th>Data</th>\n",
       "      <th>Valore</th>\n",
       "      <th>Stato</th>\n",
       "      <th>idOperatore</th>\n",
       "    </tr>\n",
       "  </thead>\n",
       "  <tbody>\n",
       "    <tr>\n",
       "      <th>168</th>\n",
       "      <td>5504</td>\n",
       "      <td>08/01/2023 12:00:00 AM</td>\n",
       "      <td>48.7</td>\n",
       "      <td>VA</td>\n",
       "      <td>1</td>\n",
       "    </tr>\n",
       "    <tr>\n",
       "      <th>169</th>\n",
       "      <td>5504</td>\n",
       "      <td>08/01/2023 01:00:00 AM</td>\n",
       "      <td>45.9</td>\n",
       "      <td>VA</td>\n",
       "      <td>1</td>\n",
       "    </tr>\n",
       "    <tr>\n",
       "      <th>170</th>\n",
       "      <td>5504</td>\n",
       "      <td>08/01/2023 02:00:00 AM</td>\n",
       "      <td>43.3</td>\n",
       "      <td>VA</td>\n",
       "      <td>1</td>\n",
       "    </tr>\n",
       "    <tr>\n",
       "      <th>171</th>\n",
       "      <td>5504</td>\n",
       "      <td>08/01/2023 03:00:00 AM</td>\n",
       "      <td>40.9</td>\n",
       "      <td>VA</td>\n",
       "      <td>1</td>\n",
       "    </tr>\n",
       "    <tr>\n",
       "      <th>172</th>\n",
       "      <td>5504</td>\n",
       "      <td>08/01/2023 04:00:00 AM</td>\n",
       "      <td>39.2</td>\n",
       "      <td>VA</td>\n",
       "      <td>1</td>\n",
       "    </tr>\n",
       "    <tr>\n",
       "      <th>...</th>\n",
       "      <td>...</td>\n",
       "      <td>...</td>\n",
       "      <td>...</td>\n",
       "      <td>...</td>\n",
       "      <td>...</td>\n",
       "    </tr>\n",
       "    <tr>\n",
       "      <th>332</th>\n",
       "      <td>5504</td>\n",
       "      <td>14/01/2023 08:00:00 PM</td>\n",
       "      <td>90.6</td>\n",
       "      <td>VA</td>\n",
       "      <td>1</td>\n",
       "    </tr>\n",
       "    <tr>\n",
       "      <th>333</th>\n",
       "      <td>5504</td>\n",
       "      <td>14/01/2023 09:00:00 PM</td>\n",
       "      <td>93.0</td>\n",
       "      <td>VA</td>\n",
       "      <td>1</td>\n",
       "    </tr>\n",
       "    <tr>\n",
       "      <th>334</th>\n",
       "      <td>5504</td>\n",
       "      <td>14/01/2023 10:00:00 PM</td>\n",
       "      <td>79.3</td>\n",
       "      <td>VA</td>\n",
       "      <td>1</td>\n",
       "    </tr>\n",
       "    <tr>\n",
       "      <th>335</th>\n",
       "      <td>5504</td>\n",
       "      <td>14/01/2023 11:00:00 PM</td>\n",
       "      <td>81.7</td>\n",
       "      <td>VA</td>\n",
       "      <td>1</td>\n",
       "    </tr>\n",
       "    <tr>\n",
       "      <th>336</th>\n",
       "      <td>5504</td>\n",
       "      <td>15/01/2023 12:00:00 AM</td>\n",
       "      <td>76.5</td>\n",
       "      <td>VA</td>\n",
       "      <td>1</td>\n",
       "    </tr>\n",
       "  </tbody>\n",
       "</table>\n",
       "<p>169 rows × 5 columns</p>\n",
       "</div>"
      ],
      "text/plain": [
       "     IdSensore                    Data  Valore Stato  idOperatore\n",
       "168       5504  08/01/2023 12:00:00 AM    48.7    VA            1\n",
       "169       5504  08/01/2023 01:00:00 AM    45.9    VA            1\n",
       "170       5504  08/01/2023 02:00:00 AM    43.3    VA            1\n",
       "171       5504  08/01/2023 03:00:00 AM    40.9    VA            1\n",
       "172       5504  08/01/2023 04:00:00 AM    39.2    VA            1\n",
       "..         ...                     ...     ...   ...          ...\n",
       "332       5504  14/01/2023 08:00:00 PM    90.6    VA            1\n",
       "333       5504  14/01/2023 09:00:00 PM    93.0    VA            1\n",
       "334       5504  14/01/2023 10:00:00 PM    79.3    VA            1\n",
       "335       5504  14/01/2023 11:00:00 PM    81.7    VA            1\n",
       "336       5504  15/01/2023 12:00:00 AM    76.5    VA            1\n",
       "\n",
       "[169 rows x 5 columns]"
      ]
     },
     "execution_count": 19,
     "metadata": {},
     "output_type": "execute_result"
    }
   ],
   "source": [
    "intervallo_df"
   ]
  },
  {
   "cell_type": "code",
   "execution_count": null,
   "metadata": {},
   "outputs": [],
   "source": [
    "df['Data'] = pd.to_datetime(df['Data'], format='%d%m%Y %H:%M:%S')"
   ]
  },
  {
   "cell_type": "code",
   "execution_count": 21,
   "metadata": {},
   "outputs": [
    {
     "data": {
      "text/html": [
       "<div>\n",
       "<style scoped>\n",
       "    .dataframe tbody tr th:only-of-type {\n",
       "        vertical-align: middle;\n",
       "    }\n",
       "\n",
       "    .dataframe tbody tr th {\n",
       "        vertical-align: top;\n",
       "    }\n",
       "\n",
       "    .dataframe thead th {\n",
       "        text-align: right;\n",
       "    }\n",
       "</style>\n",
       "<table border=\"1\" class=\"dataframe\">\n",
       "  <thead>\n",
       "    <tr style=\"text-align: right;\">\n",
       "      <th></th>\n",
       "      <th>IdSensore</th>\n",
       "      <th>Data</th>\n",
       "      <th>Valore</th>\n",
       "      <th>Stato</th>\n",
       "      <th>idOperatore</th>\n",
       "    </tr>\n",
       "  </thead>\n",
       "  <tbody>\n",
       "    <tr>\n",
       "      <th>0</th>\n",
       "      <td>5504</td>\n",
       "      <td>01/01/2023 12:00:00 AM</td>\n",
       "      <td>42.1</td>\n",
       "      <td>VA</td>\n",
       "      <td>1</td>\n",
       "    </tr>\n",
       "    <tr>\n",
       "      <th>1</th>\n",
       "      <td>5504</td>\n",
       "      <td>01/01/2023 01:00:00 AM</td>\n",
       "      <td>41.1</td>\n",
       "      <td>VA</td>\n",
       "      <td>1</td>\n",
       "    </tr>\n",
       "    <tr>\n",
       "      <th>2</th>\n",
       "      <td>5504</td>\n",
       "      <td>01/01/2023 02:00:00 AM</td>\n",
       "      <td>39.7</td>\n",
       "      <td>VA</td>\n",
       "      <td>1</td>\n",
       "    </tr>\n",
       "    <tr>\n",
       "      <th>3</th>\n",
       "      <td>5504</td>\n",
       "      <td>01/01/2023 03:00:00 AM</td>\n",
       "      <td>38.6</td>\n",
       "      <td>VA</td>\n",
       "      <td>1</td>\n",
       "    </tr>\n",
       "    <tr>\n",
       "      <th>4</th>\n",
       "      <td>5504</td>\n",
       "      <td>01/01/2023 04:00:00 AM</td>\n",
       "      <td>36.9</td>\n",
       "      <td>VA</td>\n",
       "      <td>1</td>\n",
       "    </tr>\n",
       "    <tr>\n",
       "      <th>...</th>\n",
       "      <td>...</td>\n",
       "      <td>...</td>\n",
       "      <td>...</td>\n",
       "      <td>...</td>\n",
       "      <td>...</td>\n",
       "    </tr>\n",
       "    <tr>\n",
       "      <th>2976087</th>\n",
       "      <td>20443</td>\n",
       "      <td>15/02/2024 08:00:00 PM</td>\n",
       "      <td>9.5</td>\n",
       "      <td>VA</td>\n",
       "      <td>1</td>\n",
       "    </tr>\n",
       "    <tr>\n",
       "      <th>2976088</th>\n",
       "      <td>20443</td>\n",
       "      <td>15/02/2024 09:00:00 PM</td>\n",
       "      <td>8.4</td>\n",
       "      <td>VA</td>\n",
       "      <td>1</td>\n",
       "    </tr>\n",
       "    <tr>\n",
       "      <th>2976089</th>\n",
       "      <td>20443</td>\n",
       "      <td>15/02/2024 10:00:00 PM</td>\n",
       "      <td>5.0</td>\n",
       "      <td>VA</td>\n",
       "      <td>1</td>\n",
       "    </tr>\n",
       "    <tr>\n",
       "      <th>2976090</th>\n",
       "      <td>20443</td>\n",
       "      <td>15/02/2024 11:00:00 PM</td>\n",
       "      <td>6.7</td>\n",
       "      <td>VA</td>\n",
       "      <td>1</td>\n",
       "    </tr>\n",
       "    <tr>\n",
       "      <th>2976091</th>\n",
       "      <td>20443</td>\n",
       "      <td>16/02/2024 12:00:00 AM</td>\n",
       "      <td>6.3</td>\n",
       "      <td>VA</td>\n",
       "      <td>1</td>\n",
       "    </tr>\n",
       "  </tbody>\n",
       "</table>\n",
       "<p>2976092 rows × 5 columns</p>\n",
       "</div>"
      ],
      "text/plain": [
       "         IdSensore                    Data  Valore Stato  idOperatore\n",
       "0             5504  01/01/2023 12:00:00 AM    42.1    VA            1\n",
       "1             5504  01/01/2023 01:00:00 AM    41.1    VA            1\n",
       "2             5504  01/01/2023 02:00:00 AM    39.7    VA            1\n",
       "3             5504  01/01/2023 03:00:00 AM    38.6    VA            1\n",
       "4             5504  01/01/2023 04:00:00 AM    36.9    VA            1\n",
       "...            ...                     ...     ...   ...          ...\n",
       "2976087      20443  15/02/2024 08:00:00 PM     9.5    VA            1\n",
       "2976088      20443  15/02/2024 09:00:00 PM     8.4    VA            1\n",
       "2976089      20443  15/02/2024 10:00:00 PM     5.0    VA            1\n",
       "2976090      20443  15/02/2024 11:00:00 PM     6.7    VA            1\n",
       "2976091      20443  16/02/2024 12:00:00 AM     6.3    VA            1\n",
       "\n",
       "[2976092 rows x 5 columns]"
      ]
     },
     "execution_count": 21,
     "metadata": {},
     "output_type": "execute_result"
    }
   ],
   "source": [
    "df"
   ]
  },
  {
   "cell_type": "code",
   "execution_count": 29,
   "metadata": {},
   "outputs": [
    {
     "name": "stderr",
     "output_type": "stream",
     "text": [
      "C:\\Users\\aleco\\AppData\\Local\\Temp\\ipykernel_27280\\3440504487.py:1: UserWarning: Boolean Series key will be reindexed to match DataFrame index.\n",
      "  intervallo_df = df.loc[7*24 : 2*7*24][df['IdSensore'] == 5504]\n"
     ]
    },
    {
     "data": {
      "text/plain": [
       "[<matplotlib.lines.Line2D at 0x17284589c10>]"
      ]
     },
     "execution_count": 29,
     "metadata": {},
     "output_type": "execute_result"
    },
    {
     "data": {
      "image/png": "[encoded data removed]",
      "text/plain": [
       "<Figure size 640x480 with 1 Axes>"
      ]
     },
     "metadata": {},
     "output_type": "display_data"
    }
   ],
   "source": [
    "intervallo_df = df.loc[7*24 : 2*7*24][df['IdSensore'] == 5504]\n",
    "plt.plot(intervallo_df['Data'], intervallo_df['Valore'])"
   ]
  },
  {
   "cell_type": "code",
   "execution_count": 27,
   "metadata": {},
   "outputs": [
    {
     "name": "stderr",
     "output_type": "stream",
     "text": [
      "C:\\Users\\aleco\\AppData\\Local\\Temp\\ipykernel_27280\\2832371543.py:1: UserWarning: Boolean Series key will be reindexed to match DataFrame index.\n",
      "  intervallo_df = df.loc[2*7*24 : 3*7*24][df['IdSensore'] == 5504 ]\n"
     ]
    },
    {
     "data": {
      "text/plain": [
       "[<matplotlib.lines.Line2D at 0x17283dfacd0>]"
      ]
     },
     "execution_count": 27,
     "metadata": {},
     "output_type": "execute_result"
    },
    {
     "data": {
      "image/png": "[encoded data removed]",
      "text/plain": [
       "<Figure size 640x480 with 1 Axes>"
      ]
     },
     "metadata": {},
     "output_type": "display_data"
    }
   ],
   "source": [
    "intervallo_df = df.loc[2*7*24 : 3*7*24][df['IdSensore'] == 5504 ]\n",
    "plt.plot(intervallo_df['Data'], intervallo_df['Valore'])"
   ]
  },
  {
   "cell_type": "code",
   "execution_count": null,
   "metadata": {},
   "outputs": [],
   "source": [
    "# df.corr()"
   ]
  }
 ],
 "metadata": {
  "kernelspec": {
   "display_name": "DAITA12",
   "language": "python",
   "name": "python3"
  },
  "language_info": {
   "codemirror_mode": {
    "name": "ipython",
    "version": 3
   },
   "file_extension": ".py",
   "mimetype": "text/x-python",
   "name": "python",
   "nbconvert_exporter": "python",
   "pygments_lexer": "ipython3",
   "version": "3.11.7"
  }
 },
 "nbformat": 4,
 "nbformat_minor": 2
}
